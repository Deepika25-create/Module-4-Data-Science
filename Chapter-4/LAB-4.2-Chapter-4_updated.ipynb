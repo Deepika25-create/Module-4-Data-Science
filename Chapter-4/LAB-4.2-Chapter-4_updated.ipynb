{
 "cells": [
  {
   "cell_type": "markdown",
   "id": "678947bb-65b5-43d7-bfaf-408c05d8408b",
   "metadata": {},
   "source": [
    "### Lab Title:E-Commerce Customer Behavior Analysis:"
   ]
  },
  {
   "cell_type": "markdown",
   "id": "fcc0cc49-b739-47db-835f-c439805680a9",
   "metadata": {},
   "source": [
    "\n",
    "#### Problem Statement:\n",
    "As a data scientist for an e-commerce company, the goal is to clean and preprocess customer data, which includes information on purchases, demographics, and session activities. The data must be prepared for analysis and machine learning by addressing issues like missing values, duplicates, outliers, and data formatting, ensuring it is structured and ready for modeling.\n"
   ]
  },
  {
   "cell_type": "markdown",
   "id": "3a19f14a-1552-4202-b0dc-afdcffcb5016",
   "metadata": {},
   "source": [
    "#### Objective:\n",
    "\n",
    "- Data Cleaning: Handle missing values, remove duplicate records, and identify outliers to ensure the dataset is accurate and consistent.\n",
    "- Data Transformation: Convert unstructured or categorical data into a usable format for machine learning models (e.g., encoding, scaling).\n",
    "- Feature Engineering: Extract and create relevant features from the raw data to enhance the predictive power of the models.\n",
    "- Data Structuring: Organize the dataset into a structured format suitable for analysis and model development.\n",
    "- Prepare Data for Modeling: Ensure the dataset is optimized and ready for training machine learning models that can provide valuable insights for the business.\n"
   ]
  },
  {
   "cell_type": "markdown",
   "id": "21f1a2e6-1f47-439b-bda4-1a29b3b723e3",
   "metadata": {},
   "source": [
    "\n",
    "#### Requirements:\n",
    "- Python installed (version 3.x recommended).\n",
    "- Pandas and NumPy libraries installed (`pip install pandas numpy`).\n",
    "- Jupyter Notebook (optional but recommended for running the lab)."
   ]
  },
  {
   "cell_type": "code",
   "execution_count": 2,
   "id": "3ffe9939-c798-4451-95e7-58e03ff6bb07",
   "metadata": {},
   "outputs": [],
   "source": [
    "# Import necessary library\n",
    "import pandas as pd\n",
    "import numpy as np\n",
    "import matplotlib.pyplot as plt\n",
    "import pandas as pd\n",
    "from sklearn.preprocessing import LabelEncoder"
   ]
  },
  {
   "cell_type": "markdown",
   "id": "f17e3688-2c74-464b-9a8f-7c406f78f865",
   "metadata": {},
   "source": [
    "### Encoding Categorical Data for E-Commerce Customer Behavior Analysis\n",
    "As a data scientist working for an e-commerce company, you will frequently encounter datasets containing categorical variables like gender, product categories, and customer demographics. These categorical features must be converted into numerical values before they can be used in machine learning models.\n",
    "\n",
    "Steps Involved:\n",
    "- Load the Data\n",
    "- Encoding Categorical Data (One-Hot Encoding & Label Encoding)\n",
    "- Showcase the Output"
   ]
  },
  {
   "cell_type": "code",
   "execution_count": 3,
   "id": "65ae6243-d681-41df-b22f-cafc781a3c6b",
   "metadata": {},
   "outputs": [],
   "source": [
    "# Sample E-commerce Customer Behavior Data\n",
    "data = {\n",
    "    'Customer_id': [101,201,301, 401, 501],\n",
    "    'Gender': ['Male', 'Female', 'Female', 'Male', 'Female'],\n",
    "    'Age': [15, 33, 20, 23, 30],\n",
    "    'Purchase_amount': [2000, 4050, 2300, 1150, 5500],\n",
    "    'Product_category': ['Electronics', 'Clothing', 'Electronics', 'Furniture', 'Clothing']\n",
    "}\n"
   ]
  },
  {
   "cell_type": "code",
   "execution_count": 4,
   "id": "9e4c58a2-44b0-40d2-8839-a48bca210b5e",
   "metadata": {},
   "outputs": [],
   "source": [
    "# Convert the dictionary to a pandas DataFrame\n",
    "df = pd.DataFrame(data)"
   ]
  },
  {
   "cell_type": "code",
   "execution_count": 5,
   "id": "37ec80a5-d350-4259-9d41-334d64f1bdb8",
   "metadata": {},
   "outputs": [
    {
     "name": "stdout",
     "output_type": "stream",
     "text": [
      "Data after One-Hot Encoding:\n",
      "    Customer_id  Age  Purchase_amount  Gender_Male  \\\n",
      "0          101   15             2000         True   \n",
      "1          201   33             4050        False   \n",
      "2          301   20             2300        False   \n",
      "3          401   23             1150         True   \n",
      "4          501   30             5500        False   \n",
      "\n",
      "   Product_category_Electronics  Product_category_Furniture  \n",
      "0                          True                       False  \n",
      "1                         False                       False  \n",
      "2                          True                       False  \n",
      "3                         False                        True  \n",
      "4                         False                       False  \n",
      "\n",
      "Data after Label Encoding for 'gender':\n",
      "    Customer_id  Gender  gender_encoded\n",
      "0          101    Male               1\n",
      "1          201  Female               0\n",
      "2          301  Female               0\n",
      "3          401    Male               1\n",
      "4          501  Female               0\n"
     ]
    }
   ],
   "source": [
    "# **Part 1: Encoding Categorical Data for E-Commerce Customer Behavior Analysis**\n",
    "\n",
    "# 1. One-Hot Encoding for 'gender' and 'product_category'\n",
    "df_encoded = pd.get_dummies(df, columns=['Gender', 'Product_category'], drop_first=True)\n",
    "\n",
    "print(\"Data after One-Hot Encoding:\\n\", df_encoded)\n",
    "\n",
    "\n",
    "# 2. Label Encoding for 'gender' (if we want to encode it as numbers instead of dummy variables)\n",
    "label_encoder = LabelEncoder()\n",
    "\n",
    "# Apply Label Encoding for 'gender' column\n",
    "df['gender_encoded'] = label_encoder.fit_transform(df['Gender'])\n",
    "\n",
    "print(\"\\nData after Label Encoding for 'gender':\\n\", df[['Customer_id', 'Gender', 'gender_encoded']])\n"
   ]
  },
  {
   "cell_type": "code",
   "execution_count": 6,
   "id": "75148de5-ad74-4bc4-a447-5d203a975fa8",
   "metadata": {},
   "outputs": [],
   "source": [
    "# Import necessary library\n",
    "import pandas as pd\n",
    "import numpy as np\n",
    "from sklearn.preprocessing import StandardScaler\n",
    "from sklearn.impute import SimpleImputer"
   ]
  },
  {
   "cell_type": "code",
   "execution_count": 10,
   "id": "67b2f326-3422-4238-a411-d9436999f232",
   "metadata": {},
   "outputs": [
    {
     "name": "stdout",
     "output_type": "stream",
     "text": [
      "Data after Handling Missing Values:\n",
      "    customer_id  gender   age  purchase_amount product_category  \\\n",
      "0            1    Male  25.0            200.0      Electronics   \n",
      "1            2  Female  30.0            450.0         Clothing   \n",
      "2            3  Female  22.0            325.0      Electronics   \n",
      "3            4    Male  35.0            150.0        Furniture   \n",
      "4            5  Female  28.0            500.0         Clothing   \n",
      "\n",
      "   session_duration  loyalty_score  \n",
      "0                30              7  \n",
      "1                45              9  \n",
      "2                15              6  \n",
      "3                40              5  \n",
      "4                50              8  \n",
      "\n",
      "Data after Feature Scaling:\n",
      "    customer_id  gender       age  purchase_amount product_category  \\\n",
      "0            1    Male -0.677631        -0.919018      Electronics   \n",
      "1            2  Female  0.451754         0.919018         Clothing   \n",
      "2            3  Female -1.355262         0.000000      Electronics   \n",
      "3            4    Male  1.581139        -1.286626        Furniture   \n",
      "4            5  Female  0.000000         1.286626         Clothing   \n",
      "\n",
      "   session_duration  loyalty_score  \n",
      "0         -0.483494              7  \n",
      "1          0.725241              9  \n",
      "2         -1.692228              6  \n",
      "3          0.322329              5  \n",
      "4          1.128152              8  \n"
     ]
    }
   ],
   "source": [
    "# **Part 2: Transforming Data for Analysis in E-Commerce Customer Behavior**\n",
    "\n",
    "# Sample E-commerce Customer Behavior Data\n",
    "data = {\n",
    "    'customer_id': [11, 22, 33, 44, 55],\n",
    "    'gender': ['Male', 'Female', 'Female', 'Male', 'Female'],\n",
    "    'age': [25, 30, 22, 35, np.nan],  # Missing value in age\n",
    "    'purchase_amount': [200, 450, np.nan, 150, 500],  # Missing value in purchase_amount\n",
    "    'product_category': ['Electronics', 'Clothing', 'Electronics', 'Furniture', 'Clothing'],\n",
    "    'session_duration': [30, 45, 15, 40, 50],\n",
    "    'loyalty_score': [7, 9, 6, 5, 8]\n",
    "}\n",
    "\n",
    "# Convert to pandas DataFrame\n",
    "df = pd.DataFrame(data)\n",
    "\n",
    "# Step 1: Handling Missing Data using SimpleImputer (Mean Imputation)\n",
    "imputer = SimpleImputer(strategy='mean')  # Use mean to fill missing values\n",
    "\n",
    "# Impute missing values in the 'age' and 'purchase_amount' columns\n",
    "df['age'] = imputer.fit_transform(df[['age']])\n",
    "df['purchase_amount'] = imputer.fit_transform(df[['purchase_amount']])\n",
    "\n",
    "print(\"Data after Handling Missing Values:\\n\", df)\n",
    "\n",
    "# Step 2: Feature Scaling using StandardScaler\n",
    "scaler = StandardScaler()\n",
    "\n",
    "# Scale the numerical features: age, purchase_amount, and session_duration\n",
    "df[['age', 'purchase_amount', 'session_duration']] = scaler.fit_transform(df[['age', 'purchase_amount', 'session_duration']])\n",
    "\n",
    "print(\"\\nData after Feature Scaling:\\n\", df)\n",
    "\n"
   ]
  },
  {
   "cell_type": "code",
   "execution_count": 11,
   "id": "8aaf8664-2c3f-4007-aaed-4d1ebb9d9a0b",
   "metadata": {},
   "outputs": [],
   "source": [
    "# Import necessary library\n",
    "import pandas as pd\n",
    "import numpy as np\n",
    "from sklearn.preprocessing import StandardScaler\n",
    "from sklearn.impute import SimpleImputer"
   ]
  },
  {
   "cell_type": "code",
   "execution_count": 12,
   "id": "97fd9352-4968-4e3c-b8a0-16447d07187f",
   "metadata": {},
   "outputs": [],
   "source": [
    "# Sample E-commerce Customer Behavior Data\n",
    "data = {\n",
    "    'Customer_id': [101,201,301, 401, 501],\n",
    "    'Gender': ['Male', 'Female', 'Female', 'Male', 'Female'],\n",
    "    'Age': [15, 33, 20, 23, 30],\n",
    "    'Purchase_amount': [2000, 4050, 2300, 1150, 5500],\n",
    "    'Product_category': ['Electronics', 'Clothing', 'Electronics', 'Furniture', 'Clothing']\n",
    "}\n",
    "# Convert to pandas DataFrame\n",
    "df = pd.DataFrame(data)"
   ]
  },
  {
   "cell_type": "code",
   "execution_count": 14,
   "id": "8c798f78-e448-488e-9943-6321a6c9c252",
   "metadata": {},
   "outputs": [
    {
     "name": "stdout",
     "output_type": "stream",
     "text": [
      "Data after Handling Missing Values:\n",
      "    Customer_id  Gender   Age  Purchase_amount Product_category\n",
      "0          101    Male  15.0           2000.0      Electronics\n",
      "1          201  Female  33.0           4050.0         Clothing\n",
      "2          301  Female  20.0           2300.0      Electronics\n",
      "3          401    Male  23.0           1150.0        Furniture\n",
      "4          501  Female  30.0           5500.0         Clothing\n",
      "\n",
      "Data after Feature Scaling:\n",
      "    Customer_id  Gender       Age  Purchase_amount Product_category\n",
      "0          101    Male -1.403640        -0.638486      Electronics\n",
      "1          201  Female  1.342612         0.670410         Clothing\n",
      "2          301  Female -0.640792        -0.446940      Electronics\n",
      "3          401    Male -0.183083        -1.181199        Furniture\n",
      "4          501  Female  0.884903         1.596214         Clothing\n"
     ]
    }
   ],
   "source": [
    "# **Part 3: Handling Missing Data (Imputation) and Feature Scaling**\n",
    "\n",
    "# Step 1: Handling Missing Data using SimpleImputer (Mean Imputation)\n",
    "imputer = SimpleImputer(strategy='mean')  # Use mean to fill missing values\n",
    "\n",
    "# Impute missing values in the 'age' and 'purchase_amount' columns\n",
    "df['Age'] = imputer.fit_transform(df[['Age']])\n",
    "df['Purchase_amount'] = imputer.fit_transform(df[['Purchase_amount']])\n",
    "\n",
    "print(\"Data after Handling Missing Values:\\n\", df)\n",
    "\n",
    "# Feature Scaling\n",
    "\n",
    "# Step 2: Feature Scaling using StandardScaler\n",
    "scaler = StandardScaler()\n",
    "\n",
    "# Scale the numerical features: age, purchase_amount, and session_duration\n",
    "df[['Age', 'Purchase_amount']] = scaler.fit_transform(df[['Age', 'Purchase_amount']])\n",
    "\n",
    "print(\"\\nData after Feature Scaling:\\n\", df)"
   ]
  },
  {
   "cell_type": "code",
   "execution_count": 17,
   "id": "d12ea0dd-07f6-4092-81b8-db6884b337c7",
   "metadata": {},
   "outputs": [
    {
     "name": "stdout",
     "output_type": "stream",
     "text": [
      "Combined Dataset:\n",
      "    customer_id  gender  age  purchase_amount product_category  \\\n",
      "0          201    Male   44              200      Electronics   \n",
      "1          202  Female   20              450         Clothing   \n",
      "2          203  Female   42              300      Electronics   \n",
      "3          204    Male   35              150        Furniture   \n",
      "4          205  Female   60              500         Clothing   \n",
      "\n",
      "   session_duration  loyalty_score  \n",
      "0                30              7  \n",
      "1                45              9  \n",
      "2                15              6  \n",
      "3                40              5  \n",
      "4                50              8  \n",
      "\n",
      "Training Features:\n",
      "    gender  age  purchase_amount product_category  session_duration\n",
      "4  Female   60              500         Clothing                50\n",
      "2  Female   42              300      Electronics                15\n",
      "0    Male   44              200      Electronics                30\n",
      "3    Male   35              150        Furniture                40\n",
      "\n",
      "Testing Features:\n",
      "    gender  age  purchase_amount product_category  session_duration\n",
      "1  Female   20              450         Clothing                45\n",
      "\n",
      "Training Target (Loyalty Score):\n",
      " 4    8\n",
      "2    6\n",
      "0    7\n",
      "3    5\n",
      "Name: loyalty_score, dtype: int64\n",
      "\n",
      "Testing Target (Loyalty Score):\n",
      " 1    9\n",
      "Name: loyalty_score, dtype: int64\n"
     ]
    }
   ],
   "source": [
    "# **Part 4: Combining and Splitting Datasets for E-Commerce Customer Behavior Analysis**\n",
    "\n",
    "# Steps Involved:\n",
    "# Combining Datasets : Combine different data sources (e.g., customer information, purchase behavior) into one dataset for analysis.\n",
    "\n",
    "# Splitting Datasets- Split the combined dataset into training and testing datasets, which are crucial for model training and evaluation.\n",
    "\n",
    "import pandas as pd\n",
    "from sklearn.model_selection import train_test_split\n",
    "\n",
    "# Sample Customer Demographics Data\n",
    "demographics_data = {\n",
    "    'customer_id': [201, 202,203, 204, 205],\n",
    "    'gender': ['Male', 'Female', 'Female', 'Male', 'Female'],\n",
    "    'age': [44, 20, 42, 35, 60],\n",
    "}\n",
    "\n",
    "# Sample Customer Transaction Data\n",
    "transaction_data = {\n",
    "    'customer_id': [201, 202,203, 204, 205],\n",
    "    'purchase_amount': [200, 450, 300, 150, 500],\n",
    "    'product_category': ['Electronics', 'Clothing', 'Electronics', 'Furniture', 'Clothing']\n",
    "}\n",
    "\n",
    "# Sample Customer Session Data\n",
    "session_data = {\n",
    "    'customer_id': [201, 202,203, 204, 205],\n",
    "    'session_duration': [30, 45, 15, 40, 50],\n",
    "    'loyalty_score': [7, 9, 6, 5, 8]\n",
    "}\n",
    "\n",
    "# Convert the dictionaries into pandas DataFrames\n",
    "df_demographics = pd.DataFrame(demographics_data)\n",
    "df_transactions = pd.DataFrame(transaction_data)\n",
    "df_sessions = pd.DataFrame(session_data)\n",
    "\n",
    "# Step 1: Combine the Datasets using 'customer_id'\n",
    "df_combined = pd.merge(df_demographics, df_transactions, on='customer_id', how='inner')\n",
    "df_combined = pd.merge(df_combined, df_sessions, on='customer_id', how='inner')\n",
    "\n",
    "print(\"Combined Dataset:\\n\", df_combined)\n",
    "\n",
    "# Step 2: Split the Combined Dataset into Training and Testing Data\n",
    "X = df_combined.drop(columns=['customer_id', 'loyalty_score'])  # Features\n",
    "y = df_combined['loyalty_score']  # Target variable\n",
    "\n",
    "# Split the data into 80% training and 20% testing\n",
    "X_train, X_test, y_train, y_test = train_test_split(X, y, test_size=0.2, random_state=42)\n",
    "\n",
    "print(\"\\nTraining Features:\\n\", X_train)\n",
    "print(\"\\nTesting Features:\\n\", X_test)\n",
    "print(\"\\nTraining Target (Loyalty Score):\\n\", y_train)\n",
    "print(\"\\nTesting Target (Loyalty Score):\\n\", y_test)\n"
   ]
  },
  {
   "cell_type": "code",
   "execution_count": null,
   "id": "3c943176-20bc-487d-a07f-8700decbd2b2",
   "metadata": {},
   "outputs": [],
   "source": []
  }
 ],
 "metadata": {
  "kernelspec": {
   "display_name": "Python 3 (ipykernel)",
   "language": "python",
   "name": "python3"
  },
  "language_info": {
   "codemirror_mode": {
    "name": "ipython",
    "version": 3
   },
   "file_extension": ".py",
   "mimetype": "text/x-python",
   "name": "python",
   "nbconvert_exporter": "python",
   "pygments_lexer": "ipython3",
   "version": "3.9.12"
  }
 },
 "nbformat": 4,
 "nbformat_minor": 5
}
