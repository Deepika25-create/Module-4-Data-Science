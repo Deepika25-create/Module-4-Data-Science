{
 "cells": [
  {
   "cell_type": "code",
   "execution_count": 1,
   "id": "51f95c41",
   "metadata": {},
   "outputs": [
    {
     "name": "stdout",
     "output_type": "stream",
     "text": [
      "Requirement already satisfied: scipy in c:\\users\\deepika singh\\anaconda3\\lib\\site-packages (1.13.1)\n",
      "Requirement already satisfied: numpy<2.3,>=1.22.4 in c:\\users\\deepika singh\\anaconda3\\lib\\site-packages (from scipy) (1.22.4)\n"
     ]
    }
   ],
   "source": [
    "!pip install scipy"
   ]
  },
  {
   "cell_type": "code",
   "execution_count": 3,
   "id": "bf298cc5",
   "metadata": {},
   "outputs": [],
   "source": [
    "import numpy as np\n",
    "from scipy.sparse import csr_matrix"
   ]
  },
  {
   "cell_type": "code",
   "execution_count": 4,
   "id": "a0d5ef3e",
   "metadata": {},
   "outputs": [],
   "source": [
    "#Defining two matrix\n",
    "A=np.array([[1,2],[3,4]]) #(2*2 matrix)\n",
    "B=np.array([[5,6],[7,8]])"
   ]
  },
  {
   "cell_type": "code",
   "execution_count": 5,
   "id": "28084517",
   "metadata": {},
   "outputs": [
    {
     "name": "stdout",
     "output_type": "stream",
     "text": [
      "Inverse of Matrix A:  [[-2.   1. ]\n",
      " [ 1.5 -0.5]]\n"
     ]
    }
   ],
   "source": [
    "#Calculating inverse of the Matrix\n",
    "try:\n",
    "    inverse_A=np.linalg.inv(A)\n",
    "    print(\"Inverse of Matrix A: \",inverse_A)\n",
    "except np.linalg.LinAlgError:\n",
    "    print(\"Matrix is singlur and cannot inverted\")"
   ]
  },
  {
   "cell_type": "code",
   "execution_count": 6,
   "id": "8a50ccf3",
   "metadata": {},
   "outputs": [
    {
     "name": "stdout",
     "output_type": "stream",
     "text": [
      "Identity Matrix:  [[1. 0. 0.]\n",
      " [0. 1. 0.]\n",
      " [0. 0. 1.]]\n"
     ]
    }
   ],
   "source": [
    "identity=np.eye(3)\n",
    "print(\"Identity Matrix: \",identity )"
   ]
  },
  {
   "cell_type": "code",
   "execution_count": 8,
   "id": "ae82e7e6",
   "metadata": {},
   "outputs": [
    {
     "name": "stdout",
     "output_type": "stream",
     "text": [
      "Identity Matrix without using np.eye:  [[1. 0. 0.]\n",
      " [0. 1. 0.]\n",
      " [0. 0. 1.]]\n"
     ]
    }
   ],
   "source": [
    "# Create an Identity Matrix without using np.eye\n",
    "size=3\n",
    "identity=np.zeros((size,size))\n",
    "for i in range(size):\n",
    "    identity[i][i]=1\n",
    "print(\"Identity Matrix without using np.eye: \",identity)"
   ]
  },
  {
   "cell_type": "code",
   "execution_count": 9,
   "id": "ab2c7f5a",
   "metadata": {},
   "outputs": [
    {
     "name": "stdout",
     "output_type": "stream",
     "text": [
      "[[20  0  0]\n",
      " [ 0 30  0]\n",
      " [ 0  0 40]]\n"
     ]
    }
   ],
   "source": [
    "# Creating a Diagonal Matrix\n",
    "diagonal=np.diag([20,30,40])\n",
    "print(diagonal)"
   ]
  },
  {
   "cell_type": "code",
   "execution_count": 12,
   "id": "2c7d3dd3",
   "metadata": {},
   "outputs": [
    {
     "name": "stdout",
     "output_type": "stream",
     "text": [
      "[[40.  0.  0.]\n",
      " [ 0. 50.  0.]\n",
      " [ 0.  0. 60.]]\n"
     ]
    }
   ],
   "source": [
    "# Creating a Diagonal Matrix without using np.diag\n",
    "diagonal=[40,50,60]\n",
    "matrix=np.zeros((len(diagonal),len(diagonal)))\n",
    "for i in range(len(diagonal)):\n",
    "    matrix[i][i]=diagonal[i]\n",
    "print(matrix)"
   ]
  },
  {
   "cell_type": "code",
   "execution_count": 13,
   "id": "68936b12",
   "metadata": {},
   "outputs": [
    {
     "name": "stdout",
     "output_type": "stream",
     "text": [
      "  (0, 2)\t1\n",
      "  (1, 1)\t2\n",
      "  (2, 0)\t3\n"
     ]
    }
   ],
   "source": [
    "#Creating Sparse Matrix using csr_matrix\n",
    "sparse=csr_matrix([[0,0,1],[0,2,0],[3,0,0]])\n",
    "print(sparse)"
   ]
  },
  {
   "cell_type": "code",
   "execution_count": 14,
   "id": "6d6682b2",
   "metadata": {},
   "outputs": [
    {
     "name": "stdout",
     "output_type": "stream",
     "text": [
      "[[0 0 1]\n",
      " [0 2 0]\n",
      " [3 0 0]]\n"
     ]
    }
   ],
   "source": [
    "# Creating a Sparse Matrix without using csr_matrix\n",
    "sparse=[[0,0,1],[0,2,0],[3,0,0]]\n",
    "matrix=np.array(sparse)\n",
    "print(matrix)"
   ]
  },
  {
   "cell_type": "code",
   "execution_count": null,
   "id": "7de261e1",
   "metadata": {},
   "outputs": [],
   "source": []
  }
 ],
 "metadata": {
  "kernelspec": {
   "display_name": "Python 3 (ipykernel)",
   "language": "python",
   "name": "python3"
  },
  "language_info": {
   "codemirror_mode": {
    "name": "ipython",
    "version": 3
   },
   "file_extension": ".py",
   "mimetype": "text/x-python",
   "name": "python",
   "nbconvert_exporter": "python",
   "pygments_lexer": "ipython3",
   "version": "3.9.12"
  }
 },
 "nbformat": 4,
 "nbformat_minor": 5
}
