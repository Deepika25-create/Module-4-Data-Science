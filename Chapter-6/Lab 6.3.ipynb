{
 "cells": [
  {
   "cell_type": "code",
   "execution_count": 1,
   "id": "f7c867f8",
   "metadata": {},
   "outputs": [],
   "source": [
    "import numpy as np"
   ]
  },
  {
   "cell_type": "code",
   "execution_count": 2,
   "id": "e5d22be7",
   "metadata": {},
   "outputs": [],
   "source": [
    "#Defining two matrices\n",
    "A= np.array([[1,2],[3,4]])\n",
    "B= np.array([[5,6],[7,8]])"
   ]
  },
  {
   "cell_type": "code",
   "execution_count": 3,
   "id": "e0652d0f",
   "metadata": {},
   "outputs": [
    {
     "name": "stdout",
     "output_type": "stream",
     "text": [
      "Matrix Addition [[ 6  8]\n",
      " [10 12]]\n"
     ]
    }
   ],
   "source": [
    "#Matrix addition\n",
    "add= A + B\n",
    "print(\"Matrix Addition\",add)"
   ]
  },
  {
   "cell_type": "code",
   "execution_count": 4,
   "id": "03f7352c",
   "metadata": {},
   "outputs": [
    {
     "name": "stdout",
     "output_type": "stream",
     "text": [
      "Matrix Subtraction:  [[-4 -4]\n",
      " [-4 -4]]\n"
     ]
    }
   ],
   "source": [
    "#Matrix Subtraction\n",
    "sub= A - B\n",
    "print(\"Matrix Subtraction: \",sub)"
   ]
  },
  {
   "cell_type": "code",
   "execution_count": 5,
   "id": "7bf81380",
   "metadata": {},
   "outputs": [
    {
     "name": "stdout",
     "output_type": "stream",
     "text": [
      "Element wise multiplication:  [[ 5 12]\n",
      " [21 32]]\n"
     ]
    }
   ],
   "source": [
    "#Element wise multiplication\n",
    "ele_mul= A * B\n",
    "print(\"Element wise multiplication: \", ele_mul)"
   ]
  },
  {
   "cell_type": "code",
   "execution_count": 6,
   "id": "80e24bd7",
   "metadata": {},
   "outputs": [
    {
     "name": "stdout",
     "output_type": "stream",
     "text": [
      "Matrix Multiplication(Dot product) [[19 22]\n",
      " [43 50]]\n"
     ]
    }
   ],
   "source": [
    "#Matrix Multiplication(Dot product)\n",
    "matrix_mul=np.dot(A,B)\n",
    "print(\"Matrix Multiplication(Dot product)\",matrix_mul)"
   ]
  },
  {
   "cell_type": "code",
   "execution_count": 7,
   "id": "51977695",
   "metadata": {},
   "outputs": [
    {
     "name": "stdout",
     "output_type": "stream",
     "text": [
      "Transpose of Matrix A:  [[1 3]\n",
      " [2 4]]\n"
     ]
    }
   ],
   "source": [
    "#Transpose of a matrix\n",
    "transpose=A.T\n",
    "print(\"Transpose of Matrix A: \",transpose)"
   ]
  },
  {
   "cell_type": "code",
   "execution_count": null,
   "id": "2d122842",
   "metadata": {},
   "outputs": [],
   "source": []
  }
 ],
 "metadata": {
  "kernelspec": {
   "display_name": "Python 3 (ipykernel)",
   "language": "python",
   "name": "python3"
  },
  "language_info": {
   "codemirror_mode": {
    "name": "ipython",
    "version": 3
   },
   "file_extension": ".py",
   "mimetype": "text/x-python",
   "name": "python",
   "nbconvert_exporter": "python",
   "pygments_lexer": "ipython3",
   "version": "3.9.12"
  }
 },
 "nbformat": 4,
 "nbformat_minor": 5
}
