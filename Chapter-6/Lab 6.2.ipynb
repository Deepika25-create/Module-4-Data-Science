{
 "cells": [
  {
   "cell_type": "code",
   "execution_count": 1,
   "id": "9e07bf91",
   "metadata": {},
   "outputs": [],
   "source": [
    "import numpy as np\n"
   ]
  },
  {
   "cell_type": "code",
   "execution_count": 3,
   "id": "60bda9de",
   "metadata": {},
   "outputs": [
    {
     "name": "stdout",
     "output_type": "stream",
     "text": [
      "Vector Addition:  [5 7 9]\n"
     ]
    }
   ],
   "source": [
    "#Define two vectors\n",
    "vec_a=np.array([1,2,3]) #(1-D array)\n",
    "vec_b=np.array([4,5,6]) #(1-D array)\n",
    "#Vector Addition\n",
    "vec_add=vec_a + vec_b\n",
    "print(\"Vector Addition: \",vec_add)"
   ]
  },
  {
   "cell_type": "code",
   "execution_count": 5,
   "id": "16b5691d",
   "metadata": {},
   "outputs": [
    {
     "name": "stdout",
     "output_type": "stream",
     "text": [
      "Vector Subtraction:  [-3 -3 -3]\n"
     ]
    }
   ],
   "source": [
    "#Vector Subtraction\n",
    "vec_sub=vec_a - vec_b\n",
    "print(\"Vector Subtraction: \",vec_sub)"
   ]
  },
  {
   "cell_type": "code",
   "execution_count": 6,
   "id": "05c00a78",
   "metadata": {},
   "outputs": [
    {
     "name": "stdout",
     "output_type": "stream",
     "text": [
      "Dot Product: 32\n"
     ]
    }
   ],
   "source": [
    "#Calculating the dot product\n",
    "dot=np.dot(vec_a,vec_b)\n",
    "print(\"Dot Product:\",dot)"
   ]
  },
  {
   "cell_type": "code",
   "execution_count": null,
   "id": "f40c9523",
   "metadata": {},
   "outputs": [],
   "source": []
  }
 ],
 "metadata": {
  "kernelspec": {
   "display_name": "Python 3 (ipykernel)",
   "language": "python",
   "name": "python3"
  },
  "language_info": {
   "codemirror_mode": {
    "name": "ipython",
    "version": 3
   },
   "file_extension": ".py",
   "mimetype": "text/x-python",
   "name": "python",
   "nbconvert_exporter": "python",
   "pygments_lexer": "ipython3",
   "version": "3.9.12"
  }
 },
 "nbformat": 4,
 "nbformat_minor": 5
}
