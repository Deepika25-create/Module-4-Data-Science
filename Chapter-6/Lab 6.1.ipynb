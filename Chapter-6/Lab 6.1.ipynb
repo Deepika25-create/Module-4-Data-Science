{
 "cells": [
  {
   "cell_type": "code",
   "execution_count": 1,
   "id": "6d71b1a0",
   "metadata": {},
   "outputs": [],
   "source": [
    "#Imporing numpy library for numerical calculation\n",
    "import numpy as np"
   ]
  },
  {
   "cell_type": "code",
   "execution_count": 2,
   "id": "5acb4662",
   "metadata": {},
   "outputs": [
    {
     "name": "stdout",
     "output_type": "stream",
     "text": [
      "Scalar 5\n",
      "Scalar Shape:  ()\n"
     ]
    }
   ],
   "source": [
    "#Defining Scalar (0-D array)\n",
    "scalar=np.array(5)\n",
    "print(\"Scalar\",scalar)\n",
    "print(\"Scalar Shape: \",scalar.shape)\n",
    "\n"
   ]
  },
  {
   "cell_type": "code",
   "execution_count": 3,
   "id": "9eb866a0",
   "metadata": {},
   "outputs": [
    {
     "name": "stdout",
     "output_type": "stream",
     "text": [
      "Scalar after the addition:  7\n"
     ]
    }
   ],
   "source": [
    "#Scalar Addition\n",
    "scalar_add=scalar+2\n",
    "print(\"Scalar after the addition: \",scalar_add)"
   ]
  },
  {
   "cell_type": "code",
   "execution_count": 5,
   "id": "1c085cd3",
   "metadata": {},
   "outputs": [
    {
     "name": "stdout",
     "output_type": "stream",
     "text": [
      "Vector:  [1 2 3]\n",
      "Vector Shape: (3,)\n",
      "Vector after addition:  [3 4 5]\n"
     ]
    }
   ],
   "source": [
    "# Defining a Vector (1-D array)\n",
    "vector=np.array([1,2,3])\n",
    "print(\"Vector: \",vector)\n",
    "print(\"Vector Shape:\",vector.shape)\n",
    "vector_add=vector+2\n",
    "print(\"Vector after addition: \",vector_add)"
   ]
  },
  {
   "cell_type": "code",
   "execution_count": 6,
   "id": "17e513a2",
   "metadata": {},
   "outputs": [
    {
     "name": "stdout",
     "output_type": "stream",
     "text": [
      "Matrix [[1 2 3]\n",
      " [4 5 6]]\n",
      "Matrix Shape:  (2, 3)\n",
      "Matrix after multiplication [[ 2  4  6]\n",
      " [ 8 10 12]]\n"
     ]
    }
   ],
   "source": [
    "# Defining a Matrix (2-D array)\n",
    "matrix=np.array([[1,2,3],[4,5,6]])\n",
    "print(\"Matrix\",matrix)\n",
    "print(\"Matrix Shape: \",matrix.shape)\n",
    "#Matrix Multiplication\n",
    "matrix_mul=matrix*2\n",
    "print(\"Matrix after multiplication\",matrix_mul)"
   ]
  },
  {
   "cell_type": "code",
   "execution_count": null,
   "id": "5897cd1f",
   "metadata": {},
   "outputs": [],
   "source": []
  }
 ],
 "metadata": {
  "kernelspec": {
   "display_name": "Python 3 (ipykernel)",
   "language": "python",
   "name": "python3"
  },
  "language_info": {
   "codemirror_mode": {
    "name": "ipython",
    "version": 3
   },
   "file_extension": ".py",
   "mimetype": "text/x-python",
   "name": "python",
   "nbconvert_exporter": "python",
   "pygments_lexer": "ipython3",
   "version": "3.9.12"
  }
 },
 "nbformat": 4,
 "nbformat_minor": 5
}
