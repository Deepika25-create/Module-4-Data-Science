{
 "cells": [
  {
   "cell_type": "markdown",
   "id": "678947bb-65b5-43d7-bfaf-408c05d8408b",
   "metadata": {},
   "source": [
    "### Lab Title:creating a real-time dashboard to monitor the spread of COVID-19. :"
   ]
  },
  {
   "cell_type": "markdown",
   "id": "fcc0cc49-b739-47db-835f-c439805680a9",
   "metadata": {},
   "source": [
    "\n",
    "#### Problem Statement:\n",
    "COVID-19 Cases Analysis: \n",
    "The task is creating a real-time dashboard to monitor the spread of COVID-19. \n",
    "The dashboard will include:\n",
    "1. Time-series plots to visualize trends in daily cases.\n",
    "2. Geospatial visualizations to map cases by region.\n",
    "3. Interactive dashboards to enable decision-making.     \n"
   ]
  },
  {
   "cell_type": "markdown",
   "id": "3a19f14a-1552-4202-b0dc-afdcffcb5016",
   "metadata": {},
   "source": [
    "#### Objective:\n",
    "\n",
    "The objective of this project is to develop an interactive, real-time dashboard that enables the monitoring and analysis of the global and regional spread of COVID-19. The dashboard aims to provide:\n",
    "\n",
    "- Time-Series Analysis: Visual representation of daily confirmed cases, allowing users to track trends and fluctuations in COVID-19 cases over time.\n",
    "\n",
    "- Geospatial Visualizations: Interactive maps that display the distribution of cases across different geographical regions, enabling users to understand the severity and impact in various areas.\n",
    "\n",
    "- Real-Time Updates: Incorporation of real-time data updates to ensure that the dashboard reflects the latest COVID-19 case statistics, helping users make informed decisions.\n",
    "\n",
    "- Decision-Making Support: Provide tools for public health officials, policymakers, and the general public to interpret the data, aiding in the formulation of strategies for controlling the spread of the virus.- Data Cleaning: Handle missing values, remove duplicate records, and identify outliers to ensure the dataset is accurate and consistent.\n",
    "\n"
   ]
  },
  {
   "cell_type": "markdown",
   "id": "21f1a2e6-1f47-439b-bda4-1a29b3b723e3",
   "metadata": {},
   "source": [
    "\n",
    "#### Requirements:\n",
    "- Python installed (version 3.x recommended).\n",
    "- Pandas and NumPy libraries installed (`pip install pandas numpy`).\n",
    "- Jupyter Notebook (optional but recommended for running the lab)."
   ]
  },
  {
   "cell_type": "code",
   "execution_count": 1,
   "id": "3ffe9939-c798-4451-95e7-58e03ff6bb07",
   "metadata": {},
   "outputs": [
    {
     "name": "stdout",
     "output_type": "stream",
     "text": [
      "Requirement already satisfied: dash in c:\\users\\deepika singh\\anaconda3\\lib\\site-packages (2.9.3)\n",
      "Requirement already satisfied: plotly in c:\\users\\deepika singh\\anaconda3\\lib\\site-packages (5.6.0)\n",
      "Requirement already satisfied: pandas in c:\\users\\deepika singh\\anaconda3\\lib\\site-packages (1.4.2)\n",
      "Requirement already satisfied: requests in c:\\users\\deepika singh\\anaconda3\\lib\\site-packages (2.32.3)\n",
      "Requirement already satisfied: geopandas in c:\\users\\deepika singh\\anaconda3\\lib\\site-packages (1.0.1)\n",
      "Requirement already satisfied: Flask>=1.0.4 in c:\\users\\deepika singh\\anaconda3\\lib\\site-packages (from dash) (3.1.0)\n",
      "Requirement already satisfied: dash-html-components==2.0.0 in c:\\users\\deepika singh\\anaconda3\\lib\\site-packages (from dash) (2.0.0)\n",
      "Requirement already satisfied: dash-core-components==2.0.0 in c:\\users\\deepika singh\\anaconda3\\lib\\site-packages (from dash) (2.0.0)\n",
      "Requirement already satisfied: dash-table==5.0.0 in c:\\users\\deepika singh\\anaconda3\\lib\\site-packages (from dash) (5.0.0)\n",
      "Requirement already satisfied: tenacity>=6.2.0 in c:\\users\\deepika singh\\anaconda3\\lib\\site-packages (from plotly) (8.0.1)\n",
      "Requirement already satisfied: six in c:\\users\\deepika singh\\anaconda3\\lib\\site-packages (from plotly) (1.16.0)\n",
      "Requirement already satisfied: numpy>=1.18.5 in c:\\users\\deepika singh\\anaconda3\\lib\\site-packages (from pandas) (1.22.4)\n",
      "Requirement already satisfied: python-dateutil>=2.8.1 in c:\\users\\deepika singh\\anaconda3\\lib\\site-packages (from pandas) (2.8.2)\n",
      "Requirement already satisfied: pytz>=2020.1 in c:\\users\\deepika singh\\anaconda3\\lib\\site-packages (from pandas) (2025.1)\n",
      "Requirement already satisfied: urllib3<3,>=1.21.1 in c:\\users\\deepika singh\\anaconda3\\lib\\site-packages (from requests) (1.26.9)\n",
      "Requirement already satisfied: certifi>=2017.4.17 in c:\\users\\deepika singh\\anaconda3\\lib\\site-packages (from requests) (2021.10.8)\n",
      "Requirement already satisfied: charset-normalizer<4,>=2 in c:\\users\\deepika singh\\anaconda3\\lib\\site-packages (from requests) (2.0.4)\n",
      "Requirement already satisfied: idna<4,>=2.5 in c:\\users\\deepika singh\\anaconda3\\lib\\site-packages (from requests) (3.3)\n",
      "Requirement already satisfied: shapely>=2.0.0 in c:\\users\\deepika singh\\anaconda3\\lib\\site-packages (from geopandas) (2.0.7)\n",
      "Requirement already satisfied: packaging in c:\\users\\deepika singh\\anaconda3\\lib\\site-packages (from geopandas) (21.3)\n",
      "Requirement already satisfied: pyproj>=3.3.0 in c:\\users\\deepika singh\\anaconda3\\lib\\site-packages (from geopandas) (3.6.1)\n",
      "Requirement already satisfied: pyogrio>=0.7.2 in c:\\users\\deepika singh\\anaconda3\\lib\\site-packages (from geopandas) (0.10.0)\n",
      "Requirement already satisfied: importlib-metadata>=3.6 in c:\\users\\deepika singh\\anaconda3\\lib\\site-packages (from Flask>=1.0.4->dash) (4.11.3)\n",
      "Requirement already satisfied: Jinja2>=3.1.2 in c:\\users\\deepika singh\\anaconda3\\lib\\site-packages (from Flask>=1.0.4->dash) (3.1.6)\n",
      "Requirement already satisfied: blinker>=1.9 in c:\\users\\deepika singh\\anaconda3\\lib\\site-packages (from Flask>=1.0.4->dash) (1.9.0)\n",
      "Requirement already satisfied: itsdangerous>=2.2 in c:\\users\\deepika singh\\anaconda3\\lib\\site-packages (from Flask>=1.0.4->dash) (2.2.0)\n",
      "Requirement already satisfied: click>=8.1.3 in c:\\users\\deepika singh\\anaconda3\\lib\\site-packages (from Flask>=1.0.4->dash) (8.1.8)\n",
      "Requirement already satisfied: Werkzeug>=3.1 in c:\\users\\deepika singh\\anaconda3\\lib\\site-packages (from Flask>=1.0.4->dash) (3.1.3)\n",
      "Requirement already satisfied: colorama in c:\\users\\deepika singh\\anaconda3\\lib\\site-packages (from click>=8.1.3->Flask>=1.0.4->dash) (0.4.6)\n",
      "Requirement already satisfied: zipp>=0.5 in c:\\users\\deepika singh\\anaconda3\\lib\\site-packages (from importlib-metadata>=3.6->Flask>=1.0.4->dash) (3.7.0)\n",
      "Requirement already satisfied: MarkupSafe>=2.0 in c:\\users\\deepika singh\\anaconda3\\lib\\site-packages (from Jinja2>=3.1.2->Flask>=1.0.4->dash) (3.0.2)\n",
      "Requirement already satisfied: pyparsing!=3.0.5,>=2.0.2 in c:\\users\\deepika singh\\anaconda3\\lib\\site-packages (from packaging->geopandas) (3.0.4)\n"
     ]
    }
   ],
   "source": [
    "# Import necessary library\n",
    "! pip install dash plotly pandas requests geopandas\n",
    "\n",
    "\n"
   ]
  },
  {
   "cell_type": "code",
   "execution_count": 2,
   "id": "e1b89746-f5f6-4cf8-8800-edec138928ec",
   "metadata": {},
   "outputs": [
    {
     "name": "stdout",
     "output_type": "stream",
     "text": [
      "Requirement already satisfied: dash in c:\\users\\deepika singh\\anaconda3\\lib\\site-packages (2.9.3)\n",
      "Requirement already satisfied: plotly in c:\\users\\deepika singh\\anaconda3\\lib\\site-packages (5.6.0)\n",
      "Requirement already satisfied: pandas in c:\\users\\deepika singh\\anaconda3\\lib\\site-packages (1.4.2)\n",
      "Requirement already satisfied: requests in c:\\users\\deepika singh\\anaconda3\\lib\\site-packages (2.32.3)\n",
      "Requirement already satisfied: folium in c:\\users\\deepika singh\\anaconda3\\lib\\site-packages (0.19.5)\n",
      "Requirement already satisfied: dash-table==5.0.0 in c:\\users\\deepika singh\\anaconda3\\lib\\site-packages (from dash) (5.0.0)\n",
      "Requirement already satisfied: dash-html-components==2.0.0 in c:\\users\\deepika singh\\anaconda3\\lib\\site-packages (from dash) (2.0.0)\n",
      "Requirement already satisfied: Flask>=1.0.4 in c:\\users\\deepika singh\\anaconda3\\lib\\site-packages (from dash) (3.1.0)\n",
      "Requirement already satisfied: dash-core-components==2.0.0 in c:\\users\\deepika singh\\anaconda3\\lib\\site-packages (from dash) (2.0.0)\n",
      "Requirement already satisfied: tenacity>=6.2.0 in c:\\users\\deepika singh\\anaconda3\\lib\\site-packages (from plotly) (8.0.1)\n",
      "Requirement already satisfied: six in c:\\users\\deepika singh\\anaconda3\\lib\\site-packages (from plotly) (1.16.0)\n",
      "Requirement already satisfied: pytz>=2020.1 in c:\\users\\deepika singh\\anaconda3\\lib\\site-packages (from pandas) (2025.1)\n",
      "Requirement already satisfied: numpy>=1.18.5 in c:\\users\\deepika singh\\anaconda3\\lib\\site-packages (from pandas) (1.22.4)\n",
      "Requirement already satisfied: python-dateutil>=2.8.1 in c:\\users\\deepika singh\\anaconda3\\lib\\site-packages (from pandas) (2.8.2)\n",
      "Requirement already satisfied: charset-normalizer<4,>=2 in c:\\users\\deepika singh\\anaconda3\\lib\\site-packages (from requests) (2.0.4)\n",
      "Requirement already satisfied: idna<4,>=2.5 in c:\\users\\deepika singh\\anaconda3\\lib\\site-packages (from requests) (3.3)\n",
      "Requirement already satisfied: certifi>=2017.4.17 in c:\\users\\deepika singh\\anaconda3\\lib\\site-packages (from requests) (2021.10.8)\n",
      "Requirement already satisfied: urllib3<3,>=1.21.1 in c:\\users\\deepika singh\\anaconda3\\lib\\site-packages (from requests) (1.26.9)\n",
      "Requirement already satisfied: jinja2>=2.9 in c:\\users\\deepika singh\\anaconda3\\lib\\site-packages (from folium) (3.1.6)\n",
      "Requirement already satisfied: branca>=0.6.0 in c:\\users\\deepika singh\\anaconda3\\lib\\site-packages (from folium) (0.8.1)\n",
      "Requirement already satisfied: xyzservices in c:\\users\\deepika singh\\anaconda3\\lib\\site-packages (from folium) (2025.1.0)\n",
      "Requirement already satisfied: itsdangerous>=2.2 in c:\\users\\deepika singh\\anaconda3\\lib\\site-packages (from Flask>=1.0.4->dash) (2.2.0)\n",
      "Requirement already satisfied: click>=8.1.3 in c:\\users\\deepika singh\\anaconda3\\lib\\site-packages (from Flask>=1.0.4->dash) (8.1.8)\n",
      "Requirement already satisfied: Werkzeug>=3.1 in c:\\users\\deepika singh\\anaconda3\\lib\\site-packages (from Flask>=1.0.4->dash) (3.1.3)\n",
      "Requirement already satisfied: blinker>=1.9 in c:\\users\\deepika singh\\anaconda3\\lib\\site-packages (from Flask>=1.0.4->dash) (1.9.0)\n",
      "Requirement already satisfied: importlib-metadata>=3.6 in c:\\users\\deepika singh\\anaconda3\\lib\\site-packages (from Flask>=1.0.4->dash) (4.11.3)\n",
      "Requirement already satisfied: colorama in c:\\users\\deepika singh\\anaconda3\\lib\\site-packages (from click>=8.1.3->Flask>=1.0.4->dash) (0.4.6)\n",
      "Requirement already satisfied: zipp>=0.5 in c:\\users\\deepika singh\\anaconda3\\lib\\site-packages (from importlib-metadata>=3.6->Flask>=1.0.4->dash) (3.7.0)\n",
      "Requirement already satisfied: MarkupSafe>=2.0 in c:\\users\\deepika singh\\anaconda3\\lib\\site-packages (from jinja2>=2.9->folium) (3.0.2)\n"
     ]
    }
   ],
   "source": [
    "!pip install dash plotly pandas requests folium"
   ]
  },
  {
   "cell_type": "code",
   "execution_count": 3,
   "id": "fcc7977f",
   "metadata": {},
   "outputs": [
    {
     "name": "stdout",
     "output_type": "stream",
     "text": [
      "Collecting jinja2==2.11.3\n",
      "  Using cached Jinja2-2.11.3-py2.py3-none-any.whl (125 kB)\n",
      "Requirement already satisfied: MarkupSafe>=0.23 in c:\\users\\deepika singh\\anaconda3\\lib\\site-packages (from jinja2==2.11.3) (3.0.2)\n",
      "Installing collected packages: jinja2\n",
      "  Attempting uninstall: jinja2\n",
      "    Found existing installation: jinja2 3.1.6\n",
      "    Uninstalling jinja2-3.1.6:\n",
      "      Successfully uninstalled jinja2-3.1.6\n",
      "Successfully installed jinja2-2.11.3\n",
      "Note: you may need to restart the kernel to use updated packages.\n"
     ]
    },
    {
     "name": "stderr",
     "output_type": "stream",
     "text": [
      "ERROR: pip's dependency resolver does not currently take into account all the packages that are installed. This behaviour is the source of the following dependency conflicts.\n",
      "anaconda-project 0.10.2 requires ruamel-yaml, which is not installed.\n",
      "jupyter-server 1.13.5 requires pywinpty<2; os_name == \"nt\", but you have pywinpty 2.0.2 which is incompatible.\n",
      "flask 3.1.0 requires Jinja2>=3.1.2, but you have jinja2 2.11.3 which is incompatible.\n",
      "branca 0.8.1 requires jinja2>=3, but you have jinja2 2.11.3 which is incompatible.\n"
     ]
    }
   ],
   "source": [
    "pip install jinja2==2.11.3\n"
   ]
  },
  {
   "cell_type": "code",
   "execution_count": 4,
   "id": "05dd058f",
   "metadata": {},
   "outputs": [
    {
     "name": "stdout",
     "output_type": "stream",
     "text": [
      "Requirement already satisfied: jinja2==2.11.3 in c:\\users\\deepika singh\\anaconda3\\lib\\site-packages (2.11.3)\n",
      "Requirement already satisfied: MarkupSafe>=0.23 in c:\\users\\deepika singh\\anaconda3\\lib\\site-packages (from jinja2==2.11.3) (3.0.2)\n",
      "Note: you may need to restart the kernel to use updated packages.\n"
     ]
    }
   ],
   "source": [
    "pip install jinja2==2.11.3\n"
   ]
  },
  {
   "cell_type": "code",
   "execution_count": 5,
   "id": "a7eb768f",
   "metadata": {},
   "outputs": [
    {
     "name": "stdout",
     "output_type": "stream",
     "text": [
      "Requirement already satisfied: flask in c:\\users\\deepika singh\\anaconda3\\lib\\site-packages (3.1.0)\n",
      "Requirement already satisfied: dash in c:\\users\\deepika singh\\anaconda3\\lib\\site-packages (2.9.3)\n",
      "Collecting dash\n",
      "  Using cached dash-3.0.0-py3-none-any.whl (8.0 MB)\n",
      "Requirement already satisfied: blinker>=1.9 in c:\\users\\deepika singh\\anaconda3\\lib\\site-packages (from flask) (1.9.0)\n",
      "Requirement already satisfied: itsdangerous>=2.2 in c:\\users\\deepika singh\\anaconda3\\lib\\site-packages (from flask) (2.2.0)\n",
      "Note: you may need to restart the kernel to use updated packages.Requirement already satisfied: click>=8.1.3 in c:\\users\\deepika singh\\anaconda3\\lib\\site-packages (from flask) (8.1.8)\n",
      "Requirement already satisfied: importlib-metadata>=3.6 in c:\\users\\deepika singh\\anaconda3\\lib\\site-packages (from flask) (4.11.3)\n",
      "Requirement already satisfied: Werkzeug>=3.1 in c:\\users\\deepika singh\\anaconda3\\lib\\site-packages (from flask) (3.1.3)\n",
      "Collecting Jinja2>=3.1.2\n",
      "  Using cached jinja2-3.1.6-py3-none-any.whl (134 kB)\n",
      "Requirement already satisfied: plotly>=5.0.0 in c:\\users\\deepika singh\\anaconda3\\lib\\site-packages (from dash) (5.6.0)\n",
      "Requirement already satisfied: stringcase>=1.2.0 in c:\\users\\deepika singh\\anaconda3\\lib\\site-packages (from dash) (1.2.0)\n",
      "Requirement already satisfied: retrying in c:\\users\\deepika singh\\anaconda3\\lib\\site-packages (from dash) (1.3.4)\n",
      "Collecting dash\n",
      "  Using cached dash-2.18.2-py3-none-any.whl (7.8 MB)\n",
      "Requirement already satisfied: dash-core-components==2.0.0 in c:\\users\\deepika singh\\anaconda3\\lib\\site-packages (from dash) (2.0.0)\n",
      "  Using cached dash-2.18.1-py3-none-any.whl (7.5 MB)\n",
      "  Using cached dash-2.18.0-py3-none-any.whl (7.5 MB)\n",
      "  Using cached dash-2.17.1-py3-none-any.whl (7.5 MB)\n",
      "  Using cached dash-2.17.0-py3-none-any.whl (7.5 MB)\n",
      "  Using cached dash-2.16.1-py3-none-any.whl (10.2 MB)\n",
      "  Using cached dash-2.16.0-py3-none-any.whl (10.2 MB)\n",
      "  Using cached dash-2.15.0-py3-none-any.whl (10.2 MB)\n",
      "  Using cached dash-2.14.2-py3-none-any.whl (10.2 MB)\n",
      "  Using cached dash-2.14.1-py3-none-any.whl (10.4 MB)\n",
      "  Using cached dash-2.14.0-py3-none-any.whl (10.4 MB)\n",
      "\n"
     ]
    },
    {
     "name": "stderr",
     "output_type": "stream",
     "text": [
      "ERROR: pip's dependency resolver does not currently take into account all the packages that are installed. This behaviour is the source of the following dependency conflicts.\n",
      "anaconda-project 0.10.2 requires ruamel-yaml, which is not installed.\n",
      "jupyter-server 1.13.5 requires pywinpty<2; os_name == \"nt\", but you have pywinpty 2.0.2 which is incompatible.\n"
     ]
    },
    {
     "name": "stdout",
     "output_type": "stream",
     "text": [
      "  Using cached dash-2.13.0-py3-none-any.whl (10.4 MB)\n",
      "  Using cached dash-2.12.1-py3-none-any.whl (10.4 MB)\n",
      "  Using cached dash-2.12.0-py3-none-any.whl (10.4 MB)\n",
      "  Using cached dash-2.11.1-py3-none-any.whl (10.4 MB)\n",
      "  Using cached dash-2.11.0-py3-none-any.whl (10.4 MB)\n",
      "  Using cached dash-2.10.2-py3-none-any.whl (10.3 MB)\n",
      "  Using cached dash-2.10.1-py3-none-any.whl (10.3 MB)\n",
      "  Using cached dash-2.10.0-py3-none-any.whl (10.3 MB)\n",
      "Requirement already satisfied: dash-table==5.0.0 in c:\\users\\deepika singh\\anaconda3\\lib\\site-packages (from dash) (5.0.0)\n",
      "Requirement already satisfied: dash-html-components==2.0.0 in c:\\users\\deepika singh\\anaconda3\\lib\\site-packages (from dash) (2.0.0)\n",
      "Requirement already satisfied: colorama in c:\\users\\deepika singh\\anaconda3\\lib\\site-packages (from click>=8.1.3->flask) (0.4.6)\n",
      "Requirement already satisfied: zipp>=0.5 in c:\\users\\deepika singh\\anaconda3\\lib\\site-packages (from importlib-metadata>=3.6->flask) (3.7.0)\n",
      "Requirement already satisfied: MarkupSafe>=2.0 in c:\\users\\deepika singh\\anaconda3\\lib\\site-packages (from Jinja2>=3.1.2->flask) (3.0.2)\n",
      "Requirement already satisfied: tenacity>=6.2.0 in c:\\users\\deepika singh\\anaconda3\\lib\\site-packages (from plotly>=5.0.0->dash) (8.0.1)\n",
      "Requirement already satisfied: six in c:\\users\\deepika singh\\anaconda3\\lib\\site-packages (from plotly>=5.0.0->dash) (1.16.0)\n",
      "Installing collected packages: Jinja2\n",
      "  Attempting uninstall: Jinja2\n",
      "    Found existing installation: Jinja2 2.11.3\n",
      "    Uninstalling Jinja2-2.11.3:\n",
      "      Successfully uninstalled Jinja2-2.11.3\n",
      "Successfully installed Jinja2-3.1.6\n"
     ]
    }
   ],
   "source": [
    "pip install --upgrade flask dash\n"
   ]
  },
  {
   "cell_type": "code",
   "execution_count": 6,
   "id": "4066faa6",
   "metadata": {},
   "outputs": [
    {
     "ename": "SyntaxError",
     "evalue": "invalid syntax (3996924226.py, line 1)",
     "output_type": "error",
     "traceback": [
      "\u001b[1;36m  Input \u001b[1;32mIn [6]\u001b[1;36m\u001b[0m\n\u001b[1;33m    python -m venv newenv\u001b[0m\n\u001b[1;37m              ^\u001b[0m\n\u001b[1;31mSyntaxError\u001b[0m\u001b[1;31m:\u001b[0m invalid syntax\n"
     ]
    }
   ],
   "source": [
    "python -m venv newenv\n"
   ]
  },
  {
   "cell_type": "code",
   "execution_count": null,
   "id": "70288ab4",
   "metadata": {},
   "outputs": [],
   "source": [
    "pip install dash flask jinja2\n"
   ]
  },
  {
   "cell_type": "code",
   "execution_count": null,
   "id": "4a3850e6-7a8f-46e4-aeac-f249626da811",
   "metadata": {},
   "outputs": [],
   "source": [
    "import dash\n",
    "import dash_core_components as dcc\n",
    "import dash_html_components as html\n",
    "import plotly.express as px\n",
    "import pandas as pd\n",
    "import folium\n",
    "from dash.dependencies import Input, Output\n",
    "from io import BytesIO\n",
    "import base64\n",
    "from folium.plugins import MarkerCluster"
   ]
  },
  {
   "cell_type": "code",
   "execution_count": null,
   "id": "7d3f3f9a-c528-408d-ae66-fd1386996cae",
   "metadata": {},
   "outputs": [],
   "source": [
    "# Initialize Dash app\n",
    "app = dash.Dash(__name__)\n"
   ]
  },
  {
   "cell_type": "code",
   "execution_count": null,
   "id": "a9b823f1-0b76-45c5-8b2d-ea48a678cbf1",
   "metadata": {},
   "outputs": [],
   "source": [
    "# Read COVID-19 data from CSV file\n",
    "df = pd.read_csv('covid_19_clean_complete.csv')\n",
    "df"
   ]
  },
  {
   "cell_type": "code",
   "execution_count": null,
   "id": "3d152153-dcd7-4104-8bdc-e40a7474af46",
   "metadata": {},
   "outputs": [],
   "source": [
    "# **Part 1: Time-series plots to visualize trends in daily cases. **\n",
    "\n",
    "# Convert the 'Date' column to datetime format\n",
    "df['Date'] = pd.to_datetime(df['Date'])\n",
    "\n",
    "# Compute daily new cases by subtracting the previous day's cumulative cases\n",
    "df['Deaths'] = df.groupby('Country/Region')['Deaths'].diff().fillna(0)\n",
    "\n",
    "# Time-series plot using Plotly\n",
    "time_series_fig = px.line(df, x='Date', y='Deaths', color='Country/Region', title='Daily Confirmed Death COVID-19 Cases')\n",
    "\n",
    "time_series_fig"
   ]
  },
  {
   "cell_type": "code",
   "execution_count": null,
   "id": "b3dad856-93df-4e6d-8009-d13576492e6d",
   "metadata": {},
   "outputs": [],
   "source": []
  },
  {
   "cell_type": "code",
   "execution_count": null,
   "id": "3c943176-20bc-487d-a07f-8700decbd2b2",
   "metadata": {},
   "outputs": [],
   "source": []
  }
 ],
 "metadata": {
  "kernelspec": {
   "display_name": "Python 3 (ipykernel)",
   "language": "python",
   "name": "python3"
  },
  "language_info": {
   "codemirror_mode": {
    "name": "ipython",
    "version": 3
   },
   "file_extension": ".py",
   "mimetype": "text/x-python",
   "name": "python",
   "nbconvert_exporter": "python",
   "pygments_lexer": "ipython3",
   "version": "3.9.12"
  }
 },
 "nbformat": 4,
 "nbformat_minor": 5
}
